{
 "cells": [
  {
   "cell_type": "markdown",
   "metadata": {},
   "source": [
    "# __LAMBDA FUNCTION OR ANONYMOUS FUNCTION__"
   ]
  },
  {
   "cell_type": "code",
   "execution_count": null,
   "metadata": {},
   "outputs": [],
   "source": [
    "# a = lambda c : c\n",
    "# print(a('Andi'))"
   ]
  },
  {
   "cell_type": "code",
   "execution_count": null,
   "metadata": {},
   "outputs": [],
   "source": [
    "# def b(d):\n",
    "#     return d\n",
    "# print(b('Budi'))"
   ]
  },
  {
   "cell_type": "code",
   "execution_count": null,
   "metadata": {},
   "outputs": [],
   "source": [
    "# a = lambda c : c ** 2\n",
    "# print(a(3))\n",
    "\n",
    "# def b(d):\n",
    "#     return d ** 2\n",
    "# print(b(3))"
   ]
  },
  {
   "cell_type": "code",
   "execution_count": null,
   "metadata": {},
   "outputs": [],
   "source": [
    "# a = lambda c, d : c ** d\n",
    "# print(a(2, 3))\n",
    "\n",
    "# def b(w, x):\n",
    "#     return w ** x\n",
    "# print(b(2, 3))"
   ]
  },
  {
   "cell_type": "code",
   "execution_count": null,
   "metadata": {},
   "outputs": [],
   "source": [
    "# def b(x):\n",
    "#     if x % 2 == 0:\n",
    "#         return 'Genap'\n",
    "#     else:\n",
    "#         return 'Ganjil'\n",
    "# print(b(2))\n",
    "\n",
    "# a = lambda x : 'Genap' if x%2==0 else 'Ganjil'\n",
    "# print(a(81))"
   ]
  },
  {
   "cell_type": "code",
   "execution_count": null,
   "metadata": {},
   "outputs": [],
   "source": [
    "# def f(x):\n",
    "#     return lambda a : a ** x\n",
    "\n",
    "# pangkat2 = f(2)\n",
    "# pangkat3 = f(3)\n",
    "# print(pangkat2(3))\n",
    "# print(pangkat3(3))"
   ]
  },
  {
   "cell_type": "code",
   "execution_count": 1,
   "metadata": {},
   "outputs": [
    {
     "name": "stdout",
     "output_type": "stream",
     "text": [
      "1\n",
      "2\n",
      "3\n",
      "4\n",
      "5\n",
      "1\n",
      "2\n",
      "3\n",
      "4\n",
      "5\n"
     ]
    },
    {
     "data": {
      "text/plain": [
       "[None, None, None, None, None]"
      ]
     },
     "execution_count": 1,
     "metadata": {},
     "output_type": "execute_result"
    }
   ],
   "source": [
    "x = [1, 2, 3, 4, 5]\n",
    "for i in x:\n",
    "    print(i)\n",
    "y = [print(i) for i in x]\n",
    "y"
   ]
  },
  {
   "cell_type": "code",
   "execution_count": null,
   "metadata": {},
   "outputs": [],
   "source": [
    "# x = [1, 2, 3, 4, 5]\n",
    "# y = lambda a : [print(i) for i in a]\n",
    "# y(x)"
   ]
  },
  {
   "cell_type": "code",
   "execution_count": null,
   "metadata": {},
   "outputs": [],
   "source": [
    "# listku = [\n",
    "#     lambda: 1,\n",
    "#     lambda: 2,\n",
    "#     lambda: [4, 5, 6]\n",
    "# ]\n",
    "# print(listku[0]())\n",
    "# print(listku[2]())\n",
    "# print(listku[2]()[1])"
   ]
  }
 ],
 "metadata": {
  "kernelspec": {
   "display_name": "Python 3",
   "language": "python",
   "name": "python3"
  },
  "language_info": {
   "codemirror_mode": {
    "name": "ipython",
    "version": 3
   },
   "file_extension": ".py",
   "mimetype": "text/x-python",
   "name": "python",
   "nbconvert_exporter": "python",
   "pygments_lexer": "ipython3",
   "version": "3.8.1"
  }
 },
 "nbformat": 4,
 "nbformat_minor": 4
}
